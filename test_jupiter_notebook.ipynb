{
 "cells": [
  {
   "cell_type": "markdown",
   "id": "648b4737",
   "metadata": {},
   "source": [
    "# python ka chilla with ammar baba\n",
    "\n",
    "## how to use jupiter notebook\n",
    "\n",
    "## Basics of python\n",
    "\n",
    "01.My first code\n",
    "\n",
    "02.My second code"
   ]
  },
  {
   "cell_type": "markdown",
   "id": "7bd3ee64",
   "metadata": {},
   "source": [
    "### **01-My first program in python**"
   ]
  },
  {
   "cell_type": "code",
   "execution_count": 1,
   "id": "ca3649a8",
   "metadata": {},
   "outputs": [
    {
     "name": "stdout",
     "output_type": "stream",
     "text": [
      "5\n",
      "learn python with ammar baba\n",
      "we_are_learning_python_with_ammar_in_codanics_youtube_channel\n"
     ]
    }
   ],
   "source": [
    "print(2+3)\n",
    "print(\"learn python with ammar baba\")\n",
    "print(\"we_are_learning_python_with_ammar_in_codanics_youtube_channel\")"
   ]
  },
  {
   "cell_type": "markdown",
   "id": "57ec4d06",
   "metadata": {},
   "source": [
    "### **02-operators**"
   ]
  },
  {
   "cell_type": "code",
   "execution_count": 2,
   "id": "703e2c06",
   "metadata": {},
   "outputs": [
    {
     "name": "stdout",
     "output_type": "stream",
     "text": [
      "12\n",
      "2.0\n",
      "2\n",
      "2\n",
      "5\n",
      "1\n",
      "16\n",
      "16\n"
     ]
    }
   ],
   "source": [
    "print(4*3)\n",
    "print(4/2)\n",
    "print(4//2)\n",
    "print(3-1)\n",
    "print(2+3)\n",
    "print(9%2)\n",
    "print(2**4)\n",
    "\n",
    "print((5**2)+3//7-9)\n",
    "\n"
   ]
  },
  {
   "cell_type": "markdown",
   "id": "1c4bfa04",
   "metadata": {},
   "source": [
    "***PEMDAS\n",
    "*Paranthesis Exponents Multiplication Division Addition & Subtraction for Left to Right approach for M D A S "
   ]
  },
  {
   "cell_type": "markdown",
   "id": "ba3ea587",
   "metadata": {},
   "source": [
    "### **03-strings**"
   ]
  },
  {
   "cell_type": "code",
   "execution_count": 3,
   "id": "e8b24809",
   "metadata": {},
   "outputs": [
    {
     "name": "stdout",
     "output_type": "stream",
     "text": [
      "Hello World\n",
      "learn_python_with_Malik\n",
      "test for single cote\n",
      "test fot double cote\n",
      "test for triple cote\n",
      " salam what's up  ? \n"
     ]
    }
   ],
   "source": [
    "print(\"Hello World\")\n",
    "print(\"learn_python_with_Malik\")\n",
    "print('test for single cote')\n",
    "print(\"test fot double cote\")\n",
    "print('''test for triple cote''')\n",
    "print(\" salam what's up  ? \")\n"
   ]
  },
  {
   "cell_type": "markdown",
   "id": "de677413",
   "metadata": {},
   "source": [
    "***Three types of strings:\n",
    "01.single quote''\n",
    "02.double quote\"\"\n",
    "03.tripe quote''' '''"
   ]
  },
  {
   "cell_type": "markdown",
   "id": "c71f2e98",
   "metadata": {},
   "source": [
    "### **04-comments**"
   ]
  },
  {
   "cell_type": "code",
   "execution_count": 4,
   "id": "3016f47d",
   "metadata": {
    "scrolled": false
   },
   "outputs": [
    {
     "name": "stdout",
     "output_type": "stream",
     "text": [
      "how are you?\n",
      "we learn python python with Malik\n",
      "5\n"
     ]
    }
   ],
   "source": [
    "print(\"how are you?\")\n",
    "print(\"we learn python python with Malik\")\n",
    "print(2+3)  \n",
    "\n",
    "# the shortest key of comments is ctrl+/"
   ]
  },
  {
   "cell_type": "markdown",
   "id": "377c8586",
   "metadata": {},
   "source": [
    "### **05-variables**"
   ]
  },
  {
   "cell_type": "code",
   "execution_count": 5,
   "id": "06c0b724",
   "metadata": {},
   "outputs": [
    {
     "name": "stdout",
     "output_type": "stream",
     "text": [
      "<class 'str'>\n",
      "oranges\n"
     ]
    }
   ],
   "source": [
    "fruit_basket=8\n",
    "fruit_basket=\"oranges\"\n",
    "print(type(fruit_basket))\n",
    "print(fruit_basket)"
   ]
  },
  {
   "cell_type": "markdown",
   "id": "2fae2d04",
   "metadata": {},
   "source": [
    "***Three types of variables:\n",
    "01.Integer\n",
    "02.string\n",
    "03.float***"
   ]
  },
  {
   "cell_type": "markdown",
   "id": "383facec",
   "metadata": {},
   "source": [
    "### **06.Input variables**"
   ]
  },
  {
   "cell_type": "code",
   "execution_count": null,
   "id": "dbfaaa0f",
   "metadata": {},
   "outputs": [],
   "source": [
    "name=input(\"what is your name? \")\n",
    "age=input(\"what is your age? \")\n",
    "greetings=\"Hello!\"\n",
    "print(greetings,name, \", You are still young\")"
   ]
  },
  {
   "cell_type": "markdown",
   "id": "285d2977",
   "metadata": {},
   "source": [
    "***Input=Question***\n"
   ]
  },
  {
   "cell_type": "markdown",
   "id": "8c28348f",
   "metadata": {},
   "source": [
    "### **07.Conditional logic**"
   ]
  },
  {
   "cell_type": "code",
   "execution_count": null,
   "id": "3e918427",
   "metadata": {},
   "outputs": [],
   "source": [
    "logical opeartors are either \"true or false\", \"yes  or no\",\"0 or 1\"\n",
    "Equal to                              ==\n",
    "not equal to                          !=\n",
    "Greater Then                          >\n",
    "less then                             <\n",
    "greater then and equal to             >=\n",
    "less then and equal to                <=\n",
    "\n",
    "# input function and logical function\n",
    "age_at_school=12\n",
    "hammad_age=input(\"what is the age of hammad? \")\n",
    "hammad_age=int(hammad_age)\n",
    "print(type(hammad_age))\n",
    "print(age_at_school==hammad_age)"
   ]
  },
  {
   "cell_type": "markdown",
   "id": "2e25fffb",
   "metadata": {},
   "source": [
    "### **08.Type of conversion**"
   ]
  },
  {
   "cell_type": "code",
   "execution_count": null,
   "id": "0150c57b",
   "metadata": {},
   "outputs": [],
   "source": [
    "# x=12                    #Interger\n",
    "# y=12.5                  #float\n",
    "# z=\"Hello!\"              #sting\n",
    "\n",
    "#implicit type conversion\n",
    "# y= x+y\n",
    "# print(y,\"type of y is:\",type(y))\n",
    "\n",
    "# l=15\n",
    "# m=12.5\n",
    "# n=\"hello!\"\n",
    "\n",
    "# l=l*m\n",
    "# print(l,\"type of l is:\",type(l))\n",
    "\n",
    "# #Explicit type conversion\n",
    "# age=input(\"what is your age? \")\n",
    "# print(type(age))\n",
    "# age=int(age)\n",
    "# print(age,type(age))"
   ]
  },
  {
   "cell_type": "markdown",
   "id": "57edb48f",
   "metadata": {},
   "source": [
    "**There are two types of conversion\n",
    "01.Implicit \n",
    "02.explicit**"
   ]
  },
  {
   "cell_type": "markdown",
   "id": "2e9b0385",
   "metadata": {},
   "source": [
    "### **09.What if,elif and else.**"
   ]
  },
  {
   "cell_type": "code",
   "execution_count": null,
   "id": "79981b3a",
   "metadata": {},
   "outputs": [],
   "source": [
    "# required_age_at_school=12\n",
    "# malik_age=10\n",
    "\n",
    "# if required_age_at_school==malik_age :\n",
    "#     print(\"Malik will allowed go to school\")\n",
    "# else:\n",
    "#     print(\"Malik doesnot allowed go to school because they does not meet requirement\")\n",
    "\n",
    "# malik_age=19\n",
    "# required_age_at_hostel=18\n",
    "\n",
    "\n",
    "# #can malik go to hostle?\n",
    "\n",
    "# if required_age_at_hostel==malik_age:\n",
    "#     print(\"they allowed\")\n",
    "# elif required_age_at_hostel<malik_age:\n",
    "#     print(\"Congratulation! they allowed after interview\")\n",
    "# else:\n",
    "#     print(\"they dont allowed\") \n",
    "    "
   ]
  },
  {
   "cell_type": "markdown",
   "id": "550e8787",
   "metadata": {},
   "source": [
    "***if>elif>else statement is use***"
   ]
  },
  {
   "cell_type": "markdown",
   "id": "e6619fa1",
   "metadata": {},
   "source": [
    "### **10.functions**"
   ]
  },
  {
   "cell_type": "code",
   "execution_count": null,
   "id": "d6bcd218",
   "metadata": {},
   "outputs": [],
   "source": [
    "# print(\"we are learniong python with maalik\")\n",
    "# print(\"we are learniong python with malik\")\n",
    "# print(\"we are learniong python with malik\")\n",
    "# print(\"we are learniong python with malik\")\n",
    "# print(\"we are learniong python with malik\")\n",
    "# print(\"we are learniong python with malik\")\n",
    "\n",
    "# defing a function \n",
    "# 01\n",
    "\n",
    "# def print_codanics():\n",
    "#      print(\"we are learniong python with malik\")\n",
    "#      print(\"we are learniong python with malik\")\n",
    "#      print(\"we are learniong python with malik\")\n",
    "\n",
    "# print_codanics()\n",
    "\n",
    "# 02\n",
    "\n",
    "# def print_codanics():\n",
    "#     text = \"we are learniong python with malik\"\n",
    "#     print(text)\n",
    "#     print(text)\n",
    "#     print(text)\n",
    "\n",
    "# print_codanics()\n",
    "\n",
    "# # 03\n",
    "\n",
    "# def print_codanics(text):\n",
    "#     print(text)\n",
    "#     print(text)\n",
    "#     print(text)\n",
    "\n",
    "# print_codanics(\"we are learning python with malik in their youtube channel\")\n",
    "\n",
    "# 04\n",
    "# defing a function with if, elif and else\n",
    "\n",
    "# def school_calculator(age):\n",
    "#     if age==5:\n",
    "#         print(\"hammad were allowed go to school\")\n",
    "#     elif age>5:\n",
    "#         print(\"hammad must go to high school\")\n",
    "#     else:\n",
    "#         print(\"hammad is still a baby\")\n",
    "\n",
    "# school_calculator(1)\n",
    "\n",
    "# 05 \n",
    "# defining a function of future:\n",
    "\n",
    "# def future_age(age):\n",
    "#     new_age=age+20\n",
    "#     return new_age\n",
    "#     print(future_age)\n",
    "    \n",
    "# future_predicted_age=future_age(18)\n",
    "# print(future_predicted_age)"
   ]
  },
  {
   "cell_type": "markdown",
   "id": "b8c170cd",
   "metadata": {},
   "source": [
    "### **11.loops**  trouble shooting"
   ]
  },
  {
   "cell_type": "code",
   "execution_count": null,
   "id": "12942d37",
   "metadata": {},
   "outputs": [],
   "source": [
    "# two types: While loops and for loops \n",
    "# while loops\n",
    "\n",
    "# x=0\n",
    "# while x<5:\n",
    "#     print(x)\n",
    "#     x=x+1\n",
    "\n",
    "# for loops\n",
    "# from ast import If\n",
    "# from this import d\n",
    "\n",
    "\n",
    "# for x in range(6,10):\n",
    "#     print(x)\n",
    "\n",
    "# array\n",
    "\n",
    "# days= ( \"Mon\", \"Tu\", \"Wed\", \"THR\", \"FRI\", \"SAT\", \"SUN\" )\n",
    "# for d in days:\n",
    "#     # if (d==\"FRI\"):break break loop\n",
    "#     if (d==\"FRI\"):continue #miss the loop\n",
    "#     print(d)"
   ]
  },
  {
   "cell_type": "markdown",
   "id": "e1a3d702",
   "metadata": {},
   "source": [
    "### **12.libraries**"
   ]
  },
  {
   "cell_type": "code",
   "execution_count": null,
   "id": "4e17f2bf",
   "metadata": {},
   "outputs": [],
   "source": [
    "# if you want print a valur of PI\n",
    "\n",
    "import math\n",
    "print(\"the value of pi is \", math.pi)\n",
    "\n",
    "x=[250,260,130,430,310]\n",
    "import statistics\n",
    "print(statistics.mean(x))"
   ]
  },
  {
   "cell_type": "markdown",
   "id": "1efafdfa",
   "metadata": {},
   "source": [
    "### **13.trouble shooting**"
   ]
  },
  {
   "cell_type": "code",
   "execution_count": null,
   "id": "76e54fdc",
   "metadata": {},
   "outputs": [],
   "source": [
    "print(\"we are learning python with ammar baba) syntax error\n",
    "print(25/0) runtime error\n",
    "name=malik\n",
    "print(\"hello name\")"
   ]
  },
  {
   "cell_type": "markdown",
   "id": "3741c1c0",
   "metadata": {},
   "source": [
    "***There are three types of Error\n",
    "01.syntax error\n",
    "02.runtime error\n",
    "03.semantic error"
   ]
  },
  {
   "cell_type": "markdown",
   "id": "7cdeeb39",
   "metadata": {},
   "source": [
    "#                                                    The End"
   ]
  }
 ],
 "metadata": {
  "kernelspec": {
   "display_name": "Python 3 (ipykernel)",
   "language": "python",
   "name": "python3"
  },
  "language_info": {
   "codemirror_mode": {
    "name": "ipython",
    "version": 3
   },
   "file_extension": ".py",
   "mimetype": "text/x-python",
   "name": "python",
   "nbconvert_exporter": "python",
   "pygments_lexer": "ipython3",
   "version": "3.9.12"
  }
 },
 "nbformat": 4,
 "nbformat_minor": 5
}
