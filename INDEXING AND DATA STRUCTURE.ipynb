{
 "cells": [
  {
   "cell_type": "markdown",
   "id": "acf29281",
   "metadata": {},
   "source": [
    "# Indexing"
   ]
  },
  {
   "cell_type": "code",
   "execution_count": 1,
   "id": "244ef0f8",
   "metadata": {},
   "outputs": [
    {
     "data": {
      "text/plain": [
       "'samosa pakora'"
      ]
     },
     "execution_count": 1,
     "metadata": {},
     "output_type": "execute_result"
    }
   ],
   "source": [
    "a=\"samosa pakora\"\n",
    "a"
   ]
  },
  {
   "cell_type": "code",
   "execution_count": 2,
   "id": "3e984768",
   "metadata": {},
   "outputs": [
    {
     "data": {
      "text/plain": [
       "'samosa pakora'"
      ]
     },
     "execution_count": 2,
     "metadata": {},
     "output_type": "execute_result"
    }
   ],
   "source": [
    "a\n"
   ]
  },
  {
   "cell_type": "code",
   "execution_count": 3,
   "id": "ad2b6875",
   "metadata": {},
   "outputs": [
    {
     "data": {
      "text/plain": [
       "13"
      ]
     },
     "execution_count": 3,
     "metadata": {},
     "output_type": "execute_result"
    }
   ],
   "source": [
    "# length of indexing \n",
    "len(a)\n"
   ]
  },
  {
   "cell_type": "code",
   "execution_count": 4,
   "id": "c8d27e8d",
   "metadata": {},
   "outputs": [
    {
     "data": {
      "text/plain": [
       "'p'"
      ]
     },
     "execution_count": 4,
     "metadata": {},
     "output_type": "execute_result"
    }
   ],
   "source": [
    "a[0-6]"
   ]
  },
  {
   "cell_type": "code",
   "execution_count": 5,
   "id": "b66fe1d4",
   "metadata": {},
   "outputs": [
    {
     "data": {
      "text/plain": [
       "'samosa pakor'"
      ]
     },
     "execution_count": 5,
     "metadata": {},
     "output_type": "execute_result"
    }
   ],
   "source": [
    "a[0:12]"
   ]
  },
  {
   "cell_type": "code",
   "execution_count": 6,
   "id": "dbea9f11",
   "metadata": {},
   "outputs": [
    {
     "data": {
      "text/plain": [
       "'a'"
      ]
     },
     "execution_count": 6,
     "metadata": {},
     "output_type": "execute_result"
    }
   ],
   "source": [
    "a[1]"
   ]
  },
  {
   "cell_type": "code",
   "execution_count": 7,
   "id": "6a2044aa",
   "metadata": {},
   "outputs": [
    {
     "data": {
      "text/plain": [
       "'o'"
      ]
     },
     "execution_count": 7,
     "metadata": {},
     "output_type": "execute_result"
    }
   ],
   "source": [
    "a[3]"
   ]
  },
  {
   "cell_type": "code",
   "execution_count": 8,
   "id": "335013aa",
   "metadata": {},
   "outputs": [
    {
     "data": {
      "text/plain": [
       "'p'"
      ]
     },
     "execution_count": 8,
     "metadata": {},
     "output_type": "execute_result"
    }
   ],
   "source": [
    "a[7]"
   ]
  },
  {
   "cell_type": "code",
   "execution_count": 9,
   "id": "57471344",
   "metadata": {},
   "outputs": [
    {
     "data": {
      "text/plain": [
       "' '"
      ]
     },
     "execution_count": 9,
     "metadata": {},
     "output_type": "execute_result"
    }
   ],
   "source": [
    "a[6]"
   ]
  },
  {
   "cell_type": "code",
   "execution_count": 10,
   "id": "eeb7c54f",
   "metadata": {},
   "outputs": [
    {
     "data": {
      "text/plain": [
       "'k'"
      ]
     },
     "execution_count": 10,
     "metadata": {},
     "output_type": "execute_result"
    }
   ],
   "source": [
    "a[-4]"
   ]
  },
  {
   "cell_type": "code",
   "execution_count": 11,
   "id": "19726a98",
   "metadata": {},
   "outputs": [
    {
     "data": {
      "text/plain": [
       "'pakora'"
      ]
     },
     "execution_count": 11,
     "metadata": {},
     "output_type": "execute_result"
    }
   ],
   "source": [
    "a[7:13]"
   ]
  },
  {
   "cell_type": "markdown",
   "id": "689c2f30",
   "metadata": {},
   "source": [
    "## Strings Methods"
   ]
  },
  {
   "cell_type": "code",
   "execution_count": 12,
   "id": "dcc84cf1",
   "metadata": {},
   "outputs": [
    {
     "data": {
      "text/plain": [
       "'biryani'"
      ]
     },
     "execution_count": 12,
     "metadata": {},
     "output_type": "execute_result"
    }
   ],
   "source": [
    "food=\"biryani\"\n",
    "food"
   ]
  },
  {
   "cell_type": "code",
   "execution_count": 13,
   "id": "36e7aabc",
   "metadata": {},
   "outputs": [
    {
     "data": {
      "text/plain": [
       "7"
      ]
     },
     "execution_count": 13,
     "metadata": {},
     "output_type": "execute_result"
    }
   ],
   "source": [
    "len(food)\n"
   ]
  },
  {
   "cell_type": "code",
   "execution_count": 14,
   "id": "b86ffff1",
   "metadata": {},
   "outputs": [
    {
     "data": {
      "text/plain": [
       "'Biryani'"
      ]
     },
     "execution_count": 14,
     "metadata": {},
     "output_type": "execute_result"
    }
   ],
   "source": [
    "# capitalize every letter\n",
    "food.capitalize()"
   ]
  },
  {
   "cell_type": "code",
   "execution_count": 15,
   "id": "bc4eb92f",
   "metadata": {},
   "outputs": [
    {
     "data": {
      "text/plain": [
       "'BIRYANI'"
      ]
     },
     "execution_count": 15,
     "metadata": {},
     "output_type": "execute_result"
    }
   ],
   "source": [
    "# upper case letter use\n",
    "food.upper()"
   ]
  },
  {
   "cell_type": "code",
   "execution_count": 16,
   "id": "040521b3",
   "metadata": {},
   "outputs": [
    {
     "data": {
      "text/plain": [
       "'biryani'"
      ]
     },
     "execution_count": 16,
     "metadata": {},
     "output_type": "execute_result"
    }
   ],
   "source": [
    "# lower case lettter use\n",
    "food.lower()"
   ]
  },
  {
   "cell_type": "code",
   "execution_count": 17,
   "id": "bcc4d865",
   "metadata": {},
   "outputs": [
    {
     "data": {
      "text/plain": [
       "'shiryani'"
      ]
     },
     "execution_count": 17,
     "metadata": {},
     "output_type": "execute_result"
    }
   ],
   "source": [
    "food.replace(\"b\",\"sh\")"
   ]
  },
  {
   "cell_type": "code",
   "execution_count": 18,
   "id": "0cef98b8",
   "metadata": {},
   "outputs": [
    {
     "data": {
      "text/plain": [
       "'biryani'"
      ]
     },
     "execution_count": 18,
     "metadata": {},
     "output_type": "execute_result"
    }
   ],
   "source": [
    "food.replace(\"6\",\"iyain\")"
   ]
  },
  {
   "cell_type": "code",
   "execution_count": 19,
   "id": "94927ec2",
   "metadata": {},
   "outputs": [
    {
     "data": {
      "text/plain": [
       "7"
      ]
     },
     "execution_count": 19,
     "metadata": {},
     "output_type": "execute_result"
    }
   ],
   "source": [
    "len(food)"
   ]
  },
  {
   "cell_type": "code",
   "execution_count": 20,
   "id": "c2948734",
   "metadata": {},
   "outputs": [
    {
     "data": {
      "text/plain": [
       "'biryayani'"
      ]
     },
     "execution_count": 20,
     "metadata": {},
     "output_type": "execute_result"
    }
   ],
   "source": [
    "# replace\n",
    "food.replace(\"n\",\"yan\")"
   ]
  },
  {
   "cell_type": "code",
   "execution_count": 21,
   "id": "906259c3",
   "metadata": {},
   "outputs": [
    {
     "data": {
      "text/plain": [
       "2"
      ]
     },
     "execution_count": 21,
     "metadata": {},
     "output_type": "execute_result"
    }
   ],
   "source": [
    "# counting a specific alphabet in a string\n",
    "name=\"baba_ammar with DR. ammar tufail\"\n",
    "name.count(\"ba\")\n"
   ]
  },
  {
   "cell_type": "markdown",
   "id": "b62ba9e5",
   "metadata": {},
   "source": [
    "## finding a index number in string "
   ]
  },
  {
   "cell_type": "code",
   "execution_count": 22,
   "id": "09540fec",
   "metadata": {},
   "outputs": [
    {
     "data": {
      "text/plain": [
       "'baba_ammar with DR. ammar tufail'"
      ]
     },
     "execution_count": 22,
     "metadata": {},
     "output_type": "execute_result"
    }
   ],
   "source": [
    "name=\"baba_ammar with DR. ammar tufail\"\n",
    "name"
   ]
  },
  {
   "cell_type": "code",
   "execution_count": 23,
   "id": "2c2fb9bf",
   "metadata": {},
   "outputs": [
    {
     "data": {
      "text/plain": [
       "16"
      ]
     },
     "execution_count": 23,
     "metadata": {},
     "output_type": "execute_result"
    }
   ],
   "source": [
    "name.find(\"D\")"
   ]
  },
  {
   "cell_type": "code",
   "execution_count": 24,
   "id": "948c923c",
   "metadata": {},
   "outputs": [
    {
     "data": {
      "text/plain": [
       "'D'"
      ]
     },
     "execution_count": 24,
     "metadata": {},
     "output_type": "execute_result"
    }
   ],
   "source": [
    "name[16]"
   ]
  },
  {
   "cell_type": "markdown",
   "id": "c3f5f9c2",
   "metadata": {},
   "source": [
    "## How to split a string"
   ]
  },
  {
   "cell_type": "code",
   "execution_count": 25,
   "id": "0db3ac4f",
   "metadata": {},
   "outputs": [
    {
     "data": {
      "text/plain": [
       "['i love samosa', ' pakora', 'channa', 'daal and karahi']"
      ]
     },
     "execution_count": 25,
     "metadata": {},
     "output_type": "execute_result"
    }
   ],
   "source": [
    "name=\"i love samosa, pakora,channa,daal and karahi\"\n",
    "name.split(\",\")"
   ]
  },
  {
   "cell_type": "markdown",
   "id": "4bf55a80",
   "metadata": {},
   "source": [
    "# **Basic data structure in python**\n",
    "\n",
    "01.tuple\n",
    "\n",
    "02.list\n",
    "\n",
    "03.Dictionary\n",
    "\n",
    "04.Set"
   ]
  },
  {
   "cell_type": "markdown",
   "id": "12443f9f",
   "metadata": {},
   "source": [
    "## 01.Tuples\n",
    "- ordered collection of elements\n",
    "- In enclosed in () round braces/paranthnsis\n",
    "- Different kind of element can stored.\n",
    "- elements are string, integer,float,boolean(true or false)\n",
    "- unmutable"
   ]
  },
  {
   "cell_type": "code",
   "execution_count": 26,
   "id": "5df95759",
   "metadata": {},
   "outputs": [
    {
     "data": {
      "text/plain": [
       "(2, 2.5, True, 'malik')"
      ]
     },
     "execution_count": 26,
     "metadata": {},
     "output_type": "execute_result"
    }
   ],
   "source": [
    "tup1=(2,2.5,True,\"malik\")\n",
    "tup1"
   ]
  },
  {
   "cell_type": "code",
   "execution_count": 27,
   "id": "e2522e5b",
   "metadata": {},
   "outputs": [
    {
     "data": {
      "text/plain": [
       "tuple"
      ]
     },
     "execution_count": 27,
     "metadata": {},
     "output_type": "execute_result"
    }
   ],
   "source": [
    "# Type of tuple\n",
    "type(tup1)"
   ]
  },
  {
   "cell_type": "markdown",
   "id": "dc42016b",
   "metadata": {},
   "source": [
    "### Indexing in Tuple"
   ]
  },
  {
   "cell_type": "code",
   "execution_count": 28,
   "id": "6de4f90c",
   "metadata": {},
   "outputs": [
    {
     "data": {
      "text/plain": [
       "(2, 2.5, True, 'malik')"
      ]
     },
     "execution_count": 28,
     "metadata": {},
     "output_type": "execute_result"
    }
   ],
   "source": [
    "tup1"
   ]
  },
  {
   "cell_type": "code",
   "execution_count": 29,
   "id": "8242d0dc",
   "metadata": {},
   "outputs": [
    {
     "data": {
      "text/plain": [
       "2.5"
      ]
     },
     "execution_count": 29,
     "metadata": {},
     "output_type": "execute_result"
    }
   ],
   "source": [
    "tup1[1]"
   ]
  },
  {
   "cell_type": "code",
   "execution_count": 30,
   "id": "bdb05d73",
   "metadata": {},
   "outputs": [
    {
     "data": {
      "text/plain": [
       "(2, 2.5, True, 'malik')"
      ]
     },
     "execution_count": 30,
     "metadata": {},
     "output_type": "execute_result"
    }
   ],
   "source": [
    "tup1[0:4]"
   ]
  },
  {
   "cell_type": "code",
   "execution_count": 31,
   "id": "c40b9623",
   "metadata": {},
   "outputs": [
    {
     "data": {
      "text/plain": [
       "(2, 2.5, False, 'Muhammad')"
      ]
     },
     "execution_count": 31,
     "metadata": {},
     "output_type": "execute_result"
    }
   ],
   "source": [
    "tup2=(2,2.5,False, \"Muhammad\")\n",
    "tup2"
   ]
  },
  {
   "cell_type": "code",
   "execution_count": 32,
   "id": "bdce3583",
   "metadata": {},
   "outputs": [
    {
     "data": {
      "text/plain": [
       "(2, 2.5, True, 'malik', 2, 2.5, True, 'malik', 2, 2.5, True, 'malik')"
      ]
     },
     "execution_count": 32,
     "metadata": {},
     "output_type": "execute_result"
    }
   ],
   "source": [
    "tup1*2 + tup1"
   ]
  },
  {
   "cell_type": "code",
   "execution_count": 33,
   "id": "4be6dbb9",
   "metadata": {},
   "outputs": [
    {
     "data": {
      "text/plain": [
       "(22, 23, 25, 55, 44, 22)"
      ]
     },
     "execution_count": 33,
     "metadata": {},
     "output_type": "execute_result"
    }
   ],
   "source": [
    "tup3=(22,23,25,55,44,22)\n",
    "tup3\n"
   ]
  },
  {
   "cell_type": "code",
   "execution_count": 34,
   "id": "32b11bb1",
   "metadata": {},
   "outputs": [
    {
     "data": {
      "text/plain": [
       "55"
      ]
     },
     "execution_count": 34,
     "metadata": {},
     "output_type": "execute_result"
    }
   ],
   "source": [
    "max(tup3)"
   ]
  },
  {
   "cell_type": "code",
   "execution_count": 35,
   "id": "0792d6e0",
   "metadata": {},
   "outputs": [
    {
     "data": {
      "text/plain": [
       "22"
      ]
     },
     "execution_count": 35,
     "metadata": {},
     "output_type": "execute_result"
    }
   ],
   "source": [
    "min(tup3)"
   ]
  },
  {
   "cell_type": "markdown",
   "id": "4f7b4411",
   "metadata": {},
   "source": [
    "## 02.Lists"
   ]
  },
  {
   "cell_type": "markdown",
   "id": "04ab154c",
   "metadata": {},
   "source": [
    "- ordered collection of elements\n",
    "- enclosed in [  ] square braces/brackets\n",
    "- mutabel(you can change values)"
   ]
  },
  {
   "cell_type": "code",
   "execution_count": 36,
   "id": "03a65643",
   "metadata": {},
   "outputs": [
    {
     "data": {
      "text/plain": [
       "['malik', 2, 2.2, 3, 4, 5, True]"
      ]
     },
     "execution_count": 36,
     "metadata": {},
     "output_type": "execute_result"
    }
   ],
   "source": [
    "list1=[\"malik\",2,2.2,3,4,5,True]\n",
    "list1"
   ]
  },
  {
   "cell_type": "code",
   "execution_count": 37,
   "id": "e696da53",
   "metadata": {},
   "outputs": [
    {
     "data": {
      "text/plain": [
       "[True, 5, 4, 3, 2.2, 2, 'malik']"
      ]
     },
     "execution_count": 37,
     "metadata": {},
     "output_type": "execute_result"
    }
   ],
   "source": [
    "list1.reverse()\n",
    "list1"
   ]
  },
  {
   "cell_type": "code",
   "execution_count": 38,
   "id": "9e4a3de4",
   "metadata": {},
   "outputs": [
    {
     "data": {
      "text/plain": [
       "[True, 5, 4, 3, 2.2, 2, 'malik', 'Codanics youtube channel']"
      ]
     },
     "execution_count": 38,
     "metadata": {},
     "output_type": "execute_result"
    }
   ],
   "source": [
    "list1.append(\"Codanics youtube channel\")\n",
    "list1"
   ]
  },
  {
   "cell_type": "code",
   "execution_count": 39,
   "id": "fd4a3538",
   "metadata": {},
   "outputs": [
    {
     "data": {
      "text/plain": [
       "1"
      ]
     },
     "execution_count": 39,
     "metadata": {},
     "output_type": "execute_result"
    }
   ],
   "source": [
    "list1.count(\"malik\")"
   ]
  },
  {
   "cell_type": "code",
   "execution_count": 40,
   "id": "e4566d8e",
   "metadata": {},
   "outputs": [
    {
     "data": {
      "text/plain": [
       "[2, 3, 4, 5, 6, 7, 8, 9, 0, 1]"
      ]
     },
     "execution_count": 40,
     "metadata": {},
     "output_type": "execute_result"
    }
   ],
   "source": [
    "list3=[2,3,4,5,6,7,8,9,0,1]\n",
    "list3"
   ]
  },
  {
   "cell_type": "code",
   "execution_count": 41,
   "id": "6fb9df56",
   "metadata": {},
   "outputs": [
    {
     "data": {
      "text/plain": [
       "10"
      ]
     },
     "execution_count": 41,
     "metadata": {},
     "output_type": "execute_result"
    }
   ],
   "source": [
    "len(list3)"
   ]
  },
  {
   "cell_type": "code",
   "execution_count": 42,
   "id": "ce9459c6",
   "metadata": {},
   "outputs": [
    {
     "data": {
      "text/plain": [
       "[0, 1, 2, 3, 4, 5, 6, 7, 8, 9]"
      ]
     },
     "execution_count": 42,
     "metadata": {},
     "output_type": "execute_result"
    }
   ],
   "source": [
    "# Sorting a list\n",
    "list3.sort()\n",
    "list3"
   ]
  },
  {
   "cell_type": "code",
   "execution_count": 43,
   "id": "ce025b4f",
   "metadata": {},
   "outputs": [
    {
     "data": {
      "text/plain": [
       "[0, 1, 2, 3, 4, 5, 6, 7, 8, 9]"
      ]
     },
     "execution_count": 43,
     "metadata": {},
     "output_type": "execute_result"
    }
   ],
   "source": [
    "list3.sort()\n",
    "list3"
   ]
  },
  {
   "cell_type": "code",
   "execution_count": 44,
   "id": "4965095e",
   "metadata": {},
   "outputs": [
    {
     "data": {
      "text/plain": [
       "[2, 34, 45, 555, 6, 5, 54, 4, 6, 7, 445]"
      ]
     },
     "execution_count": 44,
     "metadata": {},
     "output_type": "execute_result"
    }
   ],
   "source": [
    "list4=[2,34,45,555,6,5,54,4,6,7,445]\n",
    "list4"
   ]
  },
  {
   "cell_type": "code",
   "execution_count": 45,
   "id": "bc1f605c",
   "metadata": {},
   "outputs": [
    {
     "data": {
      "text/plain": [
       "[2, 4, 5, 6, 6, 7, 34, 45, 54, 445, 555]"
      ]
     },
     "execution_count": 45,
     "metadata": {},
     "output_type": "execute_result"
    }
   ],
   "source": [
    "list4.sort()\n",
    "list4"
   ]
  },
  {
   "cell_type": "code",
   "execution_count": 46,
   "id": "4e5236ab",
   "metadata": {},
   "outputs": [
    {
     "data": {
      "text/plain": [
       "[555, 445, 54, 45, 34, 7, 6, 6, 5, 4, 2]"
      ]
     },
     "execution_count": 46,
     "metadata": {},
     "output_type": "execute_result"
    }
   ],
   "source": [
    "list4.reverse()\n",
    "list4"
   ]
  },
  {
   "cell_type": "code",
   "execution_count": 47,
   "id": "1cc241ab",
   "metadata": {},
   "outputs": [
    {
     "data": {
      "text/plain": [
       "[2, 4, 5, 6, 6, 7, 34, 45, 54, 445, 555]"
      ]
     },
     "execution_count": 47,
     "metadata": {},
     "output_type": "execute_result"
    }
   ],
   "source": [
    "list4.sort()\n",
    "list4\n"
   ]
  },
  {
   "cell_type": "code",
   "execution_count": 48,
   "id": "6759d8e1",
   "metadata": {},
   "outputs": [
    {
     "data": {
      "text/plain": [
       "1"
      ]
     },
     "execution_count": 48,
     "metadata": {},
     "output_type": "execute_result"
    }
   ],
   "source": [
    "list4.count(2)\n"
   ]
  },
  {
   "cell_type": "code",
   "execution_count": 49,
   "id": "e2afd46c",
   "metadata": {},
   "outputs": [
    {
     "data": {
      "text/plain": [
       "[2,\n",
       " 4,\n",
       " 5,\n",
       " 6,\n",
       " 6,\n",
       " 7,\n",
       " 34,\n",
       " 45,\n",
       " 54,\n",
       " 445,\n",
       " 555,\n",
       " 2,\n",
       " 4,\n",
       " 5,\n",
       " 6,\n",
       " 6,\n",
       " 7,\n",
       " 34,\n",
       " 45,\n",
       " 54,\n",
       " 445,\n",
       " 555,\n",
       " 2,\n",
       " 4,\n",
       " 5,\n",
       " 6,\n",
       " 6,\n",
       " 7,\n",
       " 34,\n",
       " 45,\n",
       " 54,\n",
       " 445,\n",
       " 555,\n",
       " 2,\n",
       " 4,\n",
       " 5,\n",
       " 6,\n",
       " 6,\n",
       " 7,\n",
       " 34,\n",
       " 45,\n",
       " 54,\n",
       " 445,\n",
       " 555,\n",
       " 2,\n",
       " 4,\n",
       " 5,\n",
       " 6,\n",
       " 6,\n",
       " 7,\n",
       " 34,\n",
       " 45,\n",
       " 54,\n",
       " 445,\n",
       " 555,\n",
       " 2,\n",
       " 4,\n",
       " 5,\n",
       " 6,\n",
       " 6,\n",
       " 7,\n",
       " 34,\n",
       " 45,\n",
       " 54,\n",
       " 445,\n",
       " 555,\n",
       " 2,\n",
       " 4,\n",
       " 5,\n",
       " 6,\n",
       " 6,\n",
       " 7,\n",
       " 34,\n",
       " 45,\n",
       " 54,\n",
       " 445,\n",
       " 555,\n",
       " 2,\n",
       " 4,\n",
       " 5,\n",
       " 6,\n",
       " 6,\n",
       " 7,\n",
       " 34,\n",
       " 45,\n",
       " 54,\n",
       " 445,\n",
       " 555,\n",
       " 2,\n",
       " 4,\n",
       " 5,\n",
       " 6,\n",
       " 6,\n",
       " 7,\n",
       " 34,\n",
       " 45,\n",
       " 54,\n",
       " 445,\n",
       " 555,\n",
       " 2,\n",
       " 4,\n",
       " 5,\n",
       " 6,\n",
       " 6,\n",
       " 7,\n",
       " 34,\n",
       " 45,\n",
       " 54,\n",
       " 445,\n",
       " 555]"
      ]
     },
     "execution_count": 49,
     "metadata": {},
     "output_type": "execute_result"
    }
   ],
   "source": [
    "list4*3**2+list4\n",
    "\n"
   ]
  },
  {
   "cell_type": "code",
   "execution_count": 50,
   "id": "bbf27fe5",
   "metadata": {},
   "outputs": [
    {
     "data": {
      "text/plain": [
       "[0, 1, 2, 3, 4, 5, 6, 7, 8, 9, 2, 4, 5, 6, 6, 7, 34, 45, 54, 445, 555]"
      ]
     },
     "execution_count": 50,
     "metadata": {},
     "output_type": "execute_result"
    }
   ],
   "source": [
    "list3+list4"
   ]
  },
  {
   "cell_type": "markdown",
   "id": "89993ae0",
   "metadata": {},
   "source": [
    "## 03.Dictionarires\n",
    "- an unordered collection of values\n",
    "- key and value\n",
    "- clear braces and brackets{  }\n",
    "- mutable"
   ]
  },
  {
   "cell_type": "code",
   "execution_count": 51,
   "id": "67d02cdf",
   "metadata": {},
   "outputs": [
    {
     "data": {
      "text/plain": [
       "{'samosa': 30, 'pakora': 20, 'chatni': 10, 'salad': 10, 'chicken roll': 40}"
      ]
     },
     "execution_count": 51,
     "metadata": {},
     "output_type": "execute_result"
    }
   ],
   "source": [
    "# food and their prices\n",
    "food1={\"samosa\":30, \"pakora\":20, \"chatni\":10,\"salad\":10,\"chicken roll\":40}\n",
    "food1"
   ]
  },
  {
   "cell_type": "code",
   "execution_count": 52,
   "id": "9a2569bd",
   "metadata": {},
   "outputs": [
    {
     "data": {
      "text/plain": [
       "dict"
      ]
     },
     "execution_count": 52,
     "metadata": {},
     "output_type": "execute_result"
    }
   ],
   "source": [
    "type(food1)"
   ]
  },
  {
   "cell_type": "code",
   "execution_count": 53,
   "id": "622adae9",
   "metadata": {},
   "outputs": [
    {
     "data": {
      "text/plain": [
       "dict_keys(['samosa', 'pakora', 'chatni', 'salad', 'chicken roll'])"
      ]
     },
     "execution_count": 53,
     "metadata": {},
     "output_type": "execute_result"
    }
   ],
   "source": [
    "# Extract data\n",
    "key1=food1.keys()\n",
    "key1"
   ]
  },
  {
   "cell_type": "code",
   "execution_count": 54,
   "id": "d9980f83",
   "metadata": {},
   "outputs": [
    {
     "data": {
      "text/plain": [
       "dict_values([30, 20, 10, 10, 40])"
      ]
     },
     "execution_count": 54,
     "metadata": {},
     "output_type": "execute_result"
    }
   ],
   "source": [
    "values1=food1.values()\n",
    "values1"
   ]
  },
  {
   "cell_type": "code",
   "execution_count": 55,
   "id": "37157b5a",
   "metadata": {},
   "outputs": [
    {
     "data": {
      "text/plain": [
       "{'samosa': 30,\n",
       " 'pakora': 20,\n",
       " 'chatni': 10,\n",
       " 'salad': 10,\n",
       " 'chicken roll': 40,\n",
       " 'tikki': 30}"
      ]
     },
     "execution_count": 55,
     "metadata": {},
     "output_type": "execute_result"
    }
   ],
   "source": [
    "# adding new value\n",
    "food1[\"tikki\"]=30\n",
    "food1"
   ]
  },
  {
   "cell_type": "code",
   "execution_count": 56,
   "id": "bcf32608",
   "metadata": {},
   "outputs": [
    {
     "data": {
      "text/plain": [
       "{'samosa': 30,\n",
       " 'pakora': 20,\n",
       " 'chatni': 10,\n",
       " 'salad': 10,\n",
       " 'chicken roll': 40,\n",
       " 'tikki': 15}"
      ]
     },
     "execution_count": 56,
     "metadata": {},
     "output_type": "execute_result"
    }
   ],
   "source": [
    "#update the values\n",
    "food1[\"tikki\"]=15\n",
    "food1"
   ]
  },
  {
   "cell_type": "code",
   "execution_count": 57,
   "id": "2d015bd8",
   "metadata": {},
   "outputs": [
    {
     "data": {
      "text/plain": [
       "{'bread': 70, 'eggs': 110, 'chocolates': 50}"
      ]
     },
     "execution_count": 57,
     "metadata": {},
     "output_type": "execute_result"
    }
   ],
   "source": [
    "food2={\"bread\":70,\"eggs\":110,\"chocolates\":50}\n",
    "food2"
   ]
  },
  {
   "cell_type": "code",
   "execution_count": 58,
   "id": "bad3f278",
   "metadata": {},
   "outputs": [],
   "source": [
    "# Concatinate\n",
    "food1.update(food2)"
   ]
  },
  {
   "cell_type": "code",
   "execution_count": 59,
   "id": "f94a495d",
   "metadata": {},
   "outputs": [
    {
     "data": {
      "text/plain": [
       "{'samosa': 30,\n",
       " 'pakora': 20,\n",
       " 'chatni': 10,\n",
       " 'salad': 10,\n",
       " 'chicken roll': 40,\n",
       " 'tikki': 15,\n",
       " 'bread': 70,\n",
       " 'eggs': 110,\n",
       " 'chocolates': 50}"
      ]
     },
     "execution_count": 59,
     "metadata": {},
     "output_type": "execute_result"
    }
   ],
   "source": [
    "food1"
   ]
  },
  {
   "cell_type": "markdown",
   "id": "0b76689b",
   "metadata": {},
   "source": [
    "## 04.Sets\n",
    "- unordered and unindexed\n",
    "- curly brackets are used {  }\n",
    "- no dublicate are allowed\n",
    "- boolean operator were not allowed(like trye,false)"
   ]
  },
  {
   "cell_type": "code",
   "execution_count": 60,
   "id": "de6bd77b",
   "metadata": {},
   "outputs": [
    {
     "data": {
      "text/plain": [
       "{1.3, 2, 2.3, 3, 4, False, True, 'ammar', 'bhatti', 'mallik'}"
      ]
     },
     "execution_count": 60,
     "metadata": {},
     "output_type": "execute_result"
    }
   ],
   "source": [
    "s1={2,3,4,1.3,2.3,\"ammar\",\"mallik\",\"bhatti\",True,False}\n",
    "s1"
   ]
  },
  {
   "cell_type": "code",
   "execution_count": 61,
   "id": "0c4f6b06",
   "metadata": {},
   "outputs": [
    {
     "data": {
      "text/plain": [
       "set"
      ]
     },
     "execution_count": 61,
     "metadata": {},
     "output_type": "execute_result"
    }
   ],
   "source": [
    "type(s1)"
   ]
  },
  {
   "cell_type": "code",
   "execution_count": 62,
   "id": "4fec2b0f",
   "metadata": {},
   "outputs": [
    {
     "data": {
      "text/plain": [
       "{1.3, 2, 2.3, 3, 4, False, True, 'ammar', 'bhatti', 'mallik', 'saleeem'}"
      ]
     },
     "execution_count": 62,
     "metadata": {},
     "output_type": "execute_result"
    }
   ],
   "source": [
    "s1.add(\"saleeem\")\n",
    "s1"
   ]
  },
  {
   "cell_type": "code",
   "execution_count": 63,
   "id": "eb6db218",
   "metadata": {},
   "outputs": [
    {
     "data": {
      "text/plain": [
       "{1.3, 2, 2.3, 3, 4, False, True, 'ammar', 'bhatti', 'mallik'}"
      ]
     },
     "execution_count": 63,
     "metadata": {},
     "output_type": "execute_result"
    }
   ],
   "source": [
    "s1.remove(\"saleeem\")\n",
    "s1"
   ]
  }
 ],
 "metadata": {
  "kernelspec": {
   "display_name": "Python 3 (ipykernel)",
   "language": "python",
   "name": "python3"
  },
  "language_info": {
   "codemirror_mode": {
    "name": "ipython",
    "version": 3
   },
   "file_extension": ".py",
   "mimetype": "text/x-python",
   "name": "python",
   "nbconvert_exporter": "python",
   "pygments_lexer": "ipython3",
   "version": "3.9.12"
  }
 },
 "nbformat": 4,
 "nbformat_minor": 5
}
